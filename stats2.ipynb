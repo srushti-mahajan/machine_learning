{
 "cells": [
  {
   "cell_type": "markdown",
   "id": "a346c30e-6ad5-4308-8ac5-be5d4894e3f3",
   "metadata": {},
   "source": [
    "#Assignment=02"
   ]
  },
  {
   "cell_type": "code",
   "execution_count": 46,
   "id": "bc98d4d1-86cd-463e-8813-5a3710dc2470",
   "metadata": {},
   "outputs": [],
   "source": [
    "#import important libraries\n",
    "import pandas as pd\n",
    "import numpy as np\n",
    "from scipy import stats"
   ]
  },
  {
   "cell_type": "code",
   "execution_count": 47,
   "id": "4c229957-cf2b-4c37-aa6b-56ccf698cacf",
   "metadata": {},
   "outputs": [
    {
     "data": {
      "text/plain": [
       "array([1.13, 1.55, 1.43, 0.92, 1.25, 1.36, 1.32, 0.85, 1.07, 1.48, 1.2 ,\n",
       "       1.33, 1.18, 1.22, 1.29])"
      ]
     },
     "execution_count": 47,
     "metadata": {},
     "output_type": "execute_result"
    }
   ],
   "source": [
    "\n",
    "data= np.array([1.13, 1.55, 1.43, 0.92, 1.25, 1.36, 1.32, 0.85, 1.07, 1.48, 1.20, 1.33, 1.18, 1.22, 1.29])\n",
    "data"
   ]
  },
  {
   "cell_type": "code",
   "execution_count": 48,
   "id": "aaf03313-50da-42a9-bd52-b4c8d61a1044",
   "metadata": {},
   "outputs": [
    {
     "data": {
      "text/plain": [
       "array([1.13, 1.55, 1.43, 0.92, 1.25, 1.36, 1.32, 0.85, 1.07, 1.48, 1.2 ,\n",
       "       1.33, 1.18, 1.22, 1.29])"
      ]
     },
     "execution_count": 48,
     "metadata": {},
     "output_type": "execute_result"
    }
   ],
   "source": [
    "data"
   ]
  },
  {
   "cell_type": "code",
   "execution_count": 49,
   "id": "fdce7480-e33b-4dac-bbd3-cd3f33c76f35",
   "metadata": {},
   "outputs": [],
   "source": [
    "#1 : Confidence Interval Using Sample Standard Deviation"
   ]
  },
  {
   "cell_type": "code",
   "execution_count": 50,
   "id": "6c56fd49-9f19-4d70-9b47-89bf32e119e5",
   "metadata": {},
   "outputs": [
    {
     "data": {
      "text/plain": [
       "1.2386666666666666"
      ]
     },
     "execution_count": 50,
     "metadata": {},
     "output_type": "execute_result"
    }
   ],
   "source": [
    "data.mean()"
   ]
  },
  {
   "cell_type": "code",
   "execution_count": 51,
   "id": "e6ee7df9-ace3-49e6-bfb6-a75a176a231f",
   "metadata": {},
   "outputs": [
    {
     "data": {
      "text/plain": [
       "0.18661427836285438"
      ]
     },
     "execution_count": 51,
     "metadata": {},
     "output_type": "execute_result"
    }
   ],
   "source": [
    "data.std()"
   ]
  },
  {
   "cell_type": "code",
   "execution_count": 52,
   "id": "7458201a-b629-42e6-9a51-6eb10bfab003",
   "metadata": {},
   "outputs": [
    {
     "data": {
      "text/plain": [
       "15"
      ]
     },
     "execution_count": 52,
     "metadata": {},
     "output_type": "execute_result"
    }
   ],
   "source": [
    "n=len(data)\n",
    "n"
   ]
  },
  {
   "cell_type": "code",
   "execution_count": 53,
   "id": "1db1bd24-0ba0-40d8-adfe-ef4b7dfdd14c",
   "metadata": {},
   "outputs": [
    {
     "data": {
      "text/plain": [
       "1.2386666666666666"
      ]
     },
     "execution_count": 53,
     "metadata": {},
     "output_type": "execute_result"
    }
   ],
   "source": [
    "mean = np.mean(data)\n",
    "mean"
   ]
  },
  {
   "cell_type": "code",
   "execution_count": 54,
   "id": "8d7a7b43-fa7a-48d0-a5e1-fe1b7651def1",
   "metadata": {},
   "outputs": [
    {
     "data": {
      "text/plain": [
       "0.19316412956959936"
      ]
     },
     "execution_count": 54,
     "metadata": {},
     "output_type": "execute_result"
    }
   ],
   "source": [
    "std=np.std(data,ddof=1)\n",
    "std"
   ]
  },
  {
   "cell_type": "code",
   "execution_count": 55,
   "id": "a9033d0f-e2b8-4502-94a1-63b4aff87145",
   "metadata": {},
   "outputs": [
    {
     "data": {
      "text/plain": [
       "14"
      ]
     },
     "execution_count": 55,
     "metadata": {},
     "output_type": "execute_result"
    }
   ],
   "source": [
    "# Degrees of freedom\n",
    "df = n - 1\n",
    "df"
   ]
  },
  {
   "cell_type": "code",
   "execution_count": 56,
   "id": "dbc66efc-55fc-4859-b010-9db630cb2bfc",
   "metadata": {},
   "outputs": [
    {
     "data": {
      "text/plain": [
       "2.976842734370834"
      ]
     },
     "execution_count": 56,
     "metadata": {},
     "output_type": "execute_result"
    }
   ],
   "source": [
    "# Critical value from the t-distribution for a 99% confidence interval\n",
    "alpha = 0.01\n",
    "t_critical = stats.t.ppf(1 - alpha / 2, df)\n",
    "t_critical"
   ]
  },
  {
   "cell_type": "code",
   "execution_count": 57,
   "id": "189cef43-cda5-474a-8443-e15fbff5e3a4",
   "metadata": {},
   "outputs": [
    {
     "data": {
      "text/plain": [
       "0.14846932822817596"
      ]
     },
     "execution_count": 57,
     "metadata": {},
     "output_type": "execute_result"
    }
   ],
   "source": [
    "# Margin of error\n",
    "margin_of_error = t_critical * (std/ np.sqrt(n))\n",
    "margin_of_error"
   ]
  },
  {
   "cell_type": "code",
   "execution_count": 58,
   "id": "32b83cbd-2464-43ee-ab30-6931a849e11e",
   "metadata": {},
   "outputs": [
    {
     "name": "stdout",
     "output_type": "stream",
     "text": [
      "Sample Mean: 1.2387\n",
      "Sample Standard Deviation: 0.1932\n",
      "T-Critical Value: 2.9768\n",
      "Margin of Error: 0.1485\n",
      "99% Confidence Interval: (1.0901973384384906, 1.3871359948948425)\n"
     ]
    }
   ],
   "source": [
    "# Confidence interval\n",
    "confidence_interval = (mean - margin_of_error, mean + margin_of_error)\n",
    "\n",
    "print(f\"Sample Mean: {mean:.4f}\")\n",
    "print(f\"Sample Standard Deviation: {std:.4f}\")\n",
    "print(f\"T-Critical Value: {t_critical:.4f}\")\n",
    "print(f\"Margin of Error: {margin_of_error:.4f}\")\n",
    "print(f\"99% Confidence Interval: {confidence_interval}\")"
   ]
  },
  {
   "cell_type": "code",
   "execution_count": 59,
   "id": "53693257-3641-4a18-a2d1-b5ffdd5c3c3e",
   "metadata": {},
   "outputs": [],
   "source": [
    "# 2:Confidence Interval Using Known Population Standard Deviation"
   ]
  },
  {
   "cell_type": "code",
   "execution_count": 60,
   "id": "f9d7aee5-968d-4a75-9797-94299172e550",
   "metadata": {},
   "outputs": [],
   "source": [
    "# we'll use the z-distribution since the population standard deviation is known.\n"
   ]
  },
  {
   "cell_type": "code",
   "execution_count": 61,
   "id": "2e119bb8-7a0b-4d68-a82a-ccb1a878fb84",
   "metadata": {},
   "outputs": [
    {
     "data": {
      "text/plain": [
       "0.2"
      ]
     },
     "execution_count": 61,
     "metadata": {},
     "output_type": "execute_result"
    }
   ],
   "source": [
    "population_std=0.2\n",
    "population_std"
   ]
  },
  {
   "cell_type": "code",
   "execution_count": 62,
   "id": "7a12502d-6de5-4eb0-8b16-5887b22f3496",
   "metadata": {},
   "outputs": [],
   "source": [
    "#similarly find critical value for z-distribution for a 99% confidence interval"
   ]
  },
  {
   "cell_type": "code",
   "execution_count": 63,
   "id": "9427795c-a04e-4838-b1de-f19e7fc6dad3",
   "metadata": {},
   "outputs": [
    {
     "data": {
      "text/plain": [
       "2.5758293035489004"
      ]
     },
     "execution_count": 63,
     "metadata": {},
     "output_type": "execute_result"
    }
   ],
   "source": [
    "z_critical=stats.norm.ppf(1-alpha/2)\n",
    "z_critical"
   ]
  },
  {
   "cell_type": "code",
   "execution_count": 64,
   "id": "cd020c07-ef77-44a3-9afd-41e24f9bb140",
   "metadata": {},
   "outputs": [
    {
     "data": {
      "text/plain": [
       "0.13301525327090588"
      ]
     },
     "execution_count": 64,
     "metadata": {},
     "output_type": "execute_result"
    }
   ],
   "source": [
    "#margine of error\n",
    "margin_of_error = z_critical * (population_std / np.sqrt(n))\n",
    "margin_of_error\n"
   ]
  },
  {
   "cell_type": "code",
   "execution_count": 65,
   "id": "e21f27d5-8098-4be1-9147-b983d2026e9a",
   "metadata": {},
   "outputs": [
    {
     "name": "stdout",
     "output_type": "stream",
     "text": [
      "Z-Critical Value: 2.5758\n",
      "Margin of Error (using population std dev): 0.1330\n",
      "99% Confidence Interval (using population std dev): (1.1056514133957607, 1.3716819199375725)\n"
     ]
    }
   ],
   "source": [
    "#confidence interval\n",
    "confidence_interval_population = (mean - margin_of_error, mean + margin_of_error)\n",
    "\n",
    "print(f\"Z-Critical Value: {z_critical:.4f}\")\n",
    "print(f\"Margin of Error (using population std dev): {margin_of_error:.4f}\")\n",
    "print(f\"99% Confidence Interval (using population std dev): {confidence_interval_population}\")\n"
   ]
  }
 ],
 "metadata": {
  "kernelspec": {
   "display_name": "Python 3 (ipykernel)",
   "language": "python",
   "name": "python3"
  },
  "language_info": {
   "codemirror_mode": {
    "name": "ipython",
    "version": 3
   },
   "file_extension": ".py",
   "mimetype": "text/x-python",
   "name": "python",
   "nbconvert_exporter": "python",
   "pygments_lexer": "ipython3",
   "version": "3.12.4"
  }
 },
 "nbformat": 4,
 "nbformat_minor": 5
}
