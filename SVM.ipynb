{
 "cells": [
  {
   "cell_type": "code",
   "execution_count": null,
   "id": "0685c941-fe7f-45a7-b924-7a178af4237a",
   "metadata": {},
   "outputs": [],
   "source": [
    "import pandas as pd\n",
    "import seaborn as sns\n",
    "import matplotlib.pyplot as plt"
   ]
  },
  {
   "cell_type": "code",
   "execution_count": null,
   "id": "6c343b84-2da4-4a8e-8eaa-3e748eeae036",
   "metadata": {
    "scrolled": true
   },
   "outputs": [],
   "source": [
    "# Load dataset\n",
    "data = pd.read_csv(\"mushroom.csv\")\n",
    "data\n",
    "\n",
    "\n"
   ]
  },
  {
   "cell_type": "code",
   "execution_count": null,
   "id": "77724695-8210-4654-87fa-1243845fa00e",
   "metadata": {},
   "outputs": [],
   "source": [
    "# Overview of the data\n",
    "print(data.info())\n",
    "print(data.describe())\n",
    "print(data.head())\n"
   ]
  },
  {
   "cell_type": "code",
   "execution_count": null,
   "id": "b2a5a1cf-af61-4dde-8547-6ad1af23083c",
   "metadata": {},
   "outputs": [],
   "source": [
    "\n",
    "# Check for missing values\n",
    "print(data.isnull().sum())\n",
    "\n",
    "# Visualize feature distributions\n",
    "for column in data.columns:\n",
    "    plt.figure(figsize=(8, 4))\n",
    "    sns.countplot(data[column])\n",
    "    plt.title(f'Distribution of {column}')\n",
    "    plt.xticks(rotation=45)\n",
    "    plt.show()\n"
   ]
  },
  {
   "cell_type": "code",
   "execution_count": null,
   "id": "63c2e625-b2b1-4d6b-bac6-6b911b844ad9",
   "metadata": {},
   "outputs": [],
   "source": [
    "from sklearn.model_selection import train_test_split\n",
    "from sklearn.preprocessing import LabelEncoder\n",
    "\n",
    "# Encode categorical variables\n",
    "encoder = LabelEncoder()\n",
    "for column in data.columns:\n",
    "    data[column] = encoder.fit_transform(data[column])\n",
    "\n"
   ]
  },
  {
   "cell_type": "code",
   "execution_count": null,
   "id": "7464387d-328f-4df0-b9e9-ad80a763ef55",
   "metadata": {},
   "outputs": [],
   "source": [
    "data"
   ]
  },
  {
   "cell_type": "code",
   "execution_count": null,
   "id": "737c4c40-b923-4c28-bcc9-d7f3d5b5ec2e",
   "metadata": {},
   "outputs": [],
   "source": [
    "# Split dataset into features and target\n",
    "X = data.drop('class', axis=1)  # Assuming 'class' is the target column\n",
    "y = data['class']\n",
    "\n",
    "# Split into training and testing sets\n",
    "X_train, X_test, y_train, y_test = train_test_split(X, y, test_size=0.2, random_state=42)\n"
   ]
  },
  {
   "cell_type": "code",
   "execution_count": null,
   "id": "76fa1cf9-5fd6-4511-b7b8-b3ea3c10f3c9",
   "metadata": {},
   "outputs": [],
   "source": [
    "X_train, X_test, y_train, y_test"
   ]
  },
  {
   "cell_type": "code",
   "execution_count": null,
   "id": "7086552e-7c46-4ee3-a54e-873a72b4e52e",
   "metadata": {},
   "outputs": [],
   "source": [
    "# Pair plot of features\n",
    "sns.pairplot(data, hue='class')\n",
    "plt.show()\n",
    "\n"
   ]
  },
  {
   "cell_type": "code",
   "execution_count": null,
   "id": "cbb9164d-7307-42a2-996b-f45ba4e31e9e",
   "metadata": {},
   "outputs": [],
   "source": [
    "# Visualize class distribution\n",
    "sns.countplot(x=y)\n",
    "plt.title('Class Distribution')\n",
    "plt.show()\n",
    "\n"
   ]
  },
  {
   "cell_type": "code",
   "execution_count": null,
   "id": "16401257-7971-4d38-9526-67a3bd062cfd",
   "metadata": {},
   "outputs": [],
   "source": [
    "from sklearn.svm import SVC\n",
    "from sklearn.metrics import classification_report, confusion_matrix\n",
    "\n",
    "# Train an SVM classifier\n",
    "svm_model = SVC(kernel='rbf', random_state=42)\n",
    "svm_model.fit(X_train, y_train)\n",
    "\n"
   ]
  },
  {
   "cell_type": "code",
   "execution_count": null,
   "id": "49f1d2eb-086a-4a5c-8e71-40a3e232619e",
   "metadata": {},
   "outputs": [],
   "source": [
    "# Evaluate model performance\n",
    "y_pred = svm_model.predict(X_test)\n",
    "print(classification_report(y_test, y_pred))\n",
    "print(\"Confusion Matrix:\\n\", confusion_matrix(y_test, y_pred))\n"
   ]
  },
  {
   "cell_type": "code",
   "execution_count": null,
   "id": "69ed81d9-70ac-473a-b991-ddb0f609b10c",
   "metadata": {},
   "outputs": [],
   "source": [
    "from sklearn.decomposition import PCA\n",
    "\n",
    "# Reduce to 2D using PCA\n",
    "pca = PCA(n_components=2)\n",
    "X_train_2D = pca.fit_transform(X_train)\n",
    "X_test_2D = pca.transform(X_test)\n",
    "\n",
    "\n"
   ]
  },
  {
   "cell_type": "code",
   "execution_count": null,
   "id": "0a913b5e-97c7-47e2-9706-95694d7011f5",
   "metadata": {},
   "outputs": [],
   "source": [
    "# Retrain SVM on reduced data\n",
    "svm_model.fit(X_train_2D, y_train)\n",
    "y_pred_2D = svm_model.predict(X_test_2D)\n",
    "\n"
   ]
  },
  {
   "cell_type": "code",
   "execution_count": null,
   "id": "757a6c94-9409-4c6e-81af-6989c365752e",
   "metadata": {},
   "outputs": [],
   "source": [
    "# Visualize results\n",
    "plt.figure(figsize=(8, 6))\n",
    "plt.scatter(X_test_2D[:, 0], X_test_2D[:, 1], c=y_pred_2D, cmap='coolwarm', alpha=0.7)\n",
    "plt.title('SVM Classification Results (2D Projection)')\n",
    "plt.show()"
   ]
  },
  {
   "cell_type": "code",
   "execution_count": null,
   "id": "843b7d08-8545-4326-9cb8-2441dc80da15",
   "metadata": {},
   "outputs": [],
   "source": [
    "from sklearn.model_selection import GridSearchCV\n",
    "\n",
    "# Define parameter grid\n",
    "param_grid = {\n",
    "    'C': [0.1, 1, 10],\n",
    "    'gamma': [0.1, 0.01, 0.001],\n",
    "    'kernel': ['linear', 'rbf', 'poly']\n",
    "}\n",
    "\n"
   ]
  },
  {
   "cell_type": "code",
   "execution_count": null,
   "id": "ba9a03a4-3e76-4307-9a58-b724b7bea5eb",
   "metadata": {},
   "outputs": [],
   "source": [
    "# Perform Grid Search\n",
    "grid_search = GridSearchCV(SVC(), param_grid, cv=5, scoring='accuracy')\n",
    "grid_search.fit(X_train, y_train)\n"
   ]
  },
  {
   "cell_type": "code",
   "execution_count": null,
   "id": "9b1ca4fe-5238-4b4a-8b05-7d85513169a5",
   "metadata": {},
   "outputs": [],
   "source": [
    "# Best parameters and model\n",
    "print(\"Best Parameters:\", grid_search.best_params_)\n",
    "best_model = grid_search.best_estimator_\n"
   ]
  },
  {
   "cell_type": "code",
   "execution_count": null,
   "id": "7959e63d-1bc2-4a1c-ac6a-3793ee8732e8",
   "metadata": {},
   "outputs": [],
   "source": [
    "# Evaluate best model\n",
    "y_pred_best = best_model.predict(X_test)\n",
    "print(classification_report(y_test, y_pred_best))\n"
   ]
  },
  {
   "cell_type": "code",
   "execution_count": null,
   "id": "bf290a0d-5cb2-4906-ba86-31532cadf535",
   "metadata": {},
   "outputs": [],
   "source": [
    "kernels = ['linear', 'poly', 'rbf']\n",
    "for kernel in kernels:\n",
    "    model = SVC(kernel=kernel)\n",
    "    model.fit(X_train, y_train)\n",
    "    y_pred_kernel = model.predict(X_test)\n",
    "    print(f\"Kernel: {kernel}\")\n",
    "    print(classification_report(y_test, y_pred_kernel))\n"
   ]
  },
  {
   "cell_type": "code",
   "execution_count": null,
   "id": "ec203c0d-f344-436b-bec7-ab40d4826a35",
   "metadata": {},
   "outputs": [],
   "source": []
  },
  {
   "cell_type": "code",
   "execution_count": null,
   "id": "a0de6e5b-cc1b-4c73-b885-1ced5ec3e2e7",
   "metadata": {},
   "outputs": [],
   "source": []
  },
  {
   "cell_type": "code",
   "execution_count": null,
   "id": "ee445a71-7ad6-418d-add3-fd42af4c48ca",
   "metadata": {},
   "outputs": [],
   "source": []
  }
 ],
 "metadata": {
  "kernelspec": {
   "display_name": "Python 3 (ipykernel)",
   "language": "python",
   "name": "python3"
  },
  "language_info": {
   "codemirror_mode": {
    "name": "ipython",
    "version": 3
   },
   "file_extension": ".py",
   "mimetype": "text/x-python",
   "name": "python",
   "nbconvert_exporter": "python",
   "pygments_lexer": "ipython3",
   "version": "3.12.4"
  }
 },
 "nbformat": 4,
 "nbformat_minor": 5
}
