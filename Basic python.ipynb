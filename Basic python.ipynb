{
 "cells": [
  {
   "cell_type": "code",
   "execution_count": 1,
   "id": "c19de73f-9c79-4bb3-9667-1511eddf6b7e",
   "metadata": {},
   "outputs": [
    {
     "name": "stdin",
     "output_type": "stream",
     "text": [
      "Enter a number to check if it's prime:  55\n"
     ]
    },
    {
     "name": "stdout",
     "output_type": "stream",
     "text": [
      "55 is not a prime number.\n"
     ]
    }
   ],
   "source": [
    "# Exercise 1: Prime Numbers\n",
    "def is_prime(num):\n",
    "    \"\"\"Check if a number is a prime number.\"\"\"\n",
    "    if num <= 1:\n",
    "        return False\n",
    "    for i in range(2, int(num ** 0.5) + 1):  # Loop till square root of the number\n",
    "        if num % i == 0:\n",
    "            return False\n",
    "    return True\n",
    "\n",
    "# Example Usage\n",
    "number = int(input(\"Enter a number to check if it's prime: \"))\n",
    "if is_prime(number):\n",
    "    print(f\"{number} is a prime number.\")\n",
    "else:\n",
    "    print(f\"{number} is not a prime number.\")\n"
   ]
  },
  {
   "cell_type": "code",
   "execution_count": 4,
   "id": "bf371caa-14b2-4ccc-91b8-08e37f4d3c97",
   "metadata": {},
   "outputs": [
    {
     "name": "stdout",
     "output_type": "stream",
     "text": [
      "What is the product of 1 and 8?\n"
     ]
    },
    {
     "name": "stdin",
     "output_type": "stream",
     "text": [
      "Enter your answer:  4\n"
     ]
    },
    {
     "name": "stdout",
     "output_type": "stream",
     "text": [
      "Incorrect. The correct answer is 8.\n"
     ]
    }
   ],
   "source": [
    "import random\n",
    "\n",
    "# Exercise 2: Product of Random Numbers\n",
    "def product_quiz():\n",
    "    \"\"\"Generate two random numbers and quiz the user for their product.\"\"\"\n",
    "    num1 = random.randint(1, 10)\n",
    "    num2 = random.randint(1, 10)\n",
    "    correct_product = num1 * num2\n",
    "\n",
    "    print(f\"What is the product of {num1} and {num2}?\")\n",
    "    user_answer = int(input(\"Enter your answer: \"))\n",
    "\n",
    "    if user_answer == correct_product:\n",
    "        print(\"Correct! Well done.\")\n",
    "    else:\n",
    "        print(f\"Incorrect. The correct answer is {correct_product}.\")\n",
    "\n",
    "product_quiz()"
   ]
  },
  {
   "cell_type": "code",
   "execution_count": 5,
   "id": "cd9343e5-4f1f-4a23-931e-686c2d319903",
   "metadata": {},
   "outputs": [
    {
     "name": "stdout",
     "output_type": "stream",
     "text": [
      "Squares of even numbers from 100 to 200:\n",
      "100^2 = 10000\n",
      "102^2 = 10404\n",
      "104^2 = 10816\n",
      "106^2 = 11236\n",
      "108^2 = 11664\n",
      "110^2 = 12100\n",
      "112^2 = 12544\n",
      "114^2 = 12996\n",
      "116^2 = 13456\n",
      "118^2 = 13924\n",
      "120^2 = 14400\n",
      "122^2 = 14884\n",
      "124^2 = 15376\n",
      "126^2 = 15876\n",
      "128^2 = 16384\n",
      "130^2 = 16900\n",
      "132^2 = 17424\n",
      "134^2 = 17956\n",
      "136^2 = 18496\n",
      "138^2 = 19044\n",
      "140^2 = 19600\n",
      "142^2 = 20164\n",
      "144^2 = 20736\n",
      "146^2 = 21316\n",
      "148^2 = 21904\n",
      "150^2 = 22500\n",
      "152^2 = 23104\n",
      "154^2 = 23716\n",
      "156^2 = 24336\n",
      "158^2 = 24964\n",
      "160^2 = 25600\n",
      "162^2 = 26244\n",
      "164^2 = 26896\n",
      "166^2 = 27556\n",
      "168^2 = 28224\n",
      "170^2 = 28900\n",
      "172^2 = 29584\n",
      "174^2 = 30276\n",
      "176^2 = 30976\n",
      "178^2 = 31684\n",
      "180^2 = 32400\n",
      "182^2 = 33124\n",
      "184^2 = 33856\n",
      "186^2 = 34596\n",
      "188^2 = 35344\n",
      "190^2 = 36100\n",
      "192^2 = 36864\n",
      "194^2 = 37636\n",
      "196^2 = 38416\n",
      "198^2 = 39204\n",
      "200^2 = 40000\n"
     ]
    }
   ],
   "source": [
    "# Exercise 3: Squares of Even/Odd Numbers\n",
    "def squares_of_numbers(choice=\"even\"):\n",
    "    \"\"\"Print squares of either even or odd numbers between 100 and 200.\"\"\"\n",
    "    print(f\"Squares of {choice} numbers from 100 to 200:\")\n",
    "    for num in range(100, 201):\n",
    "        if choice == \"even\" and num % 2 == 0:\n",
    "            print(f\"{num}^2 = {num ** 2}\")\n",
    "        elif choice == \"odd\" and num % 2 != 0:\n",
    "            print(f\"{num}^2 = {num ** 2}\")\n",
    "\n",
    "# Example Usage\n",
    "squares_of_numbers(choice=\"even\")  # Change \"even\" to \"odd\" if needed\n"
   ]
  },
  {
   "cell_type": "code",
   "execution_count": 6,
   "id": "87098f52-3aac-448c-bbea-0fd3f717928c",
   "metadata": {},
   "outputs": [
    {
     "name": "stdout",
     "output_type": "stream",
     "text": [
      "'This': 2\n",
      "'is': 1\n",
      "'a': 1\n",
      "'sample': 1\n",
      "'text.': 1\n",
      "'text': 1\n",
      "'will': 1\n",
      "'be': 1\n",
      "'used': 1\n",
      "'to': 1\n",
      "'demonstrate': 1\n",
      "'the': 1\n",
      "'word': 1\n",
      "'counter.': 1\n"
     ]
    }
   ],
   "source": [
    "from collections import Counter\n",
    "\n",
    "# Exercise 4: Word Counter\n",
    "def word_counter(input_text):\n",
    "    \"\"\"Count the number of occurrences of each word in the input text.\"\"\"\n",
    "    words = input_text.split()  # Split text into words\n",
    "    word_counts = Counter(words)  # Count occurrences of each word\n",
    "    for word, count in word_counts.items():\n",
    "        print(f\"'{word}': {count}\")\n",
    "\n",
    "# Example Usage\n",
    "input_text = \"This is a sample text. This text will be used to demonstrate the word counter.\"\n",
    "word_counter(input_text)\n"
   ]
  },
  {
   "cell_type": "code",
   "execution_count": 8,
   "id": "1353ed73-fced-4e2b-80b3-3d51f4f70d12",
   "metadata": {},
   "outputs": [
    {
     "name": "stdin",
     "output_type": "stream",
     "text": [
      "Enter a string to check if it's a palindrome:  h\n"
     ]
    },
    {
     "name": "stdout",
     "output_type": "stream",
     "text": [
      "\"h\" is a palindrome.\n"
     ]
    }
   ],
   "source": [
    "import re\n",
    "\n",
    "# Exercise 5: Check for Palindrome\n",
    "def is_palindrome(text):\n",
    "    \"\"\"Check if a given string is a palindrome.\"\"\"\n",
    "    # Remove spaces, punctuation, and make it lowercase\n",
    "    cleaned_text = re.sub(r'[^a-zA-Z0-9]', '', text).lower()\n",
    "    return cleaned_text == cleaned_text[::-1]  # Compare string with its reverse\n",
    "\n",
    "# Example Usage\n",
    "input_text = input(\"Enter a string to check if it's a palindrome: \")\n",
    "if is_palindrome(input_text):\n",
    "    print(f'\"{input_text}\" is a palindrome.')\n",
    "else:\n",
    "    print(f'\"{input_text}\" is not a palindrome.')\n"
   ]
  },
  {
   "cell_type": "code",
   "execution_count": null,
   "id": "78c22719-e5c6-4936-8176-e356e1c5b933",
   "metadata": {},
   "outputs": [],
   "source": []
  }
 ],
 "metadata": {
  "kernelspec": {
   "display_name": "Python 3 (ipykernel)",
   "language": "python",
   "name": "python3"
  },
  "language_info": {
   "codemirror_mode": {
    "name": "ipython",
    "version": 3
   },
   "file_extension": ".py",
   "mimetype": "text/x-python",
   "name": "python",
   "nbconvert_exporter": "python",
   "pygments_lexer": "ipython3",
   "version": "3.12.4"
  }
 },
 "nbformat": 4,
 "nbformat_minor": 5
}
